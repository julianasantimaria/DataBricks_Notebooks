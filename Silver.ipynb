{
 "cells": [
  {
   "cell_type": "code",
   "execution_count": 0,
   "metadata": {
    "application/vnd.databricks.v1+cell": {
     "cellMetadata": {
      "byteLimit": 2048000,
      "rowLimit": 10000
     },
     "inputWidgets": {},
     "nuid": "13bf33ec-6338-4414-a333-8040df4b7030",
     "showTitle": false,
     "title": ""
    }
   },
   "outputs": [],
   "source": [
    "delta_table_path = \"/dbfs/delta-lake-tables/bronze\"\n",
    "\n",
    "df = spark.read.format(\"delta\").load(delta_table_path)"
   ]
  },
  {
   "cell_type": "code",
   "execution_count": 0,
   "metadata": {
    "application/vnd.databricks.v1+cell": {
     "cellMetadata": {
      "byteLimit": 2048000,
      "rowLimit": 10000
     },
     "inputWidgets": {},
     "nuid": "800979bf-8c7c-4eb7-b659-95132f8128ec",
     "showTitle": false,
     "title": ""
    }
   },
   "outputs": [
    {
     "output_type": "stream",
     "name": "stdout",
     "output_type": "stream",
     "text": [
      "+--------+----------------+----------+-----------+-----------------------+--------------------+-------------------+-------------------+-----------+---------+\n|ID_Contr|ID_Tipo_Contrato|ID_Cenario|Total_Horas|Quantidade_MW_Medio_Mes|Data_Inicio_Vigencia|  Data_Fim_Vigencia|ID_Contratos_Mensal|Preco_Final|ID_Agente|\n+--------+----------------+----------+-----------+-----------------------+--------------------+-------------------+-------------------+-----------+---------+\n|    7430|               2|         1|        744|                      0| 2021-02-18 00:00:00|2021-02-23 00:00:00|             245560|       NULL|      -10|\n|   61190|               2|        47|        720|                      0| 2023-05-29 00:00:00|9999-12-31 00:00:00|           12247464|       NULL|      110|\n|   61190|               2|        47|        672|                      0| 2023-05-29 00:00:00|9999-12-31 00:00:00|           12466817|       NULL|      110|\n|   86790|               2|         5|        696|                      0| 2021-11-01 00:00:00|9999-12-31 00:00:00|            7071388|       NULL|      390|\n|   86790|               2|         5|        720|                      0| 2021-11-01 00:00:00|9999-12-31 00:00:00|            6954529|       NULL|      390|\n|    7440|               2|         1|        720|                      0| 2021-02-18 00:00:00|2021-02-23 00:00:00|             179674|       NULL|      -10|\n|    7440|               2|         1|        720|                      0| 2021-01-26 00:00:00|2021-02-18 00:00:00|             132186|       NULL|      -10|\n|    7440|               2|         1|        720|                      0| 2021-02-18 00:00:00|2021-02-23 00:00:00|             179685|       NULL|      -10|\n|    7440|               2|         1|        744|                      0| 2021-01-26 00:00:00|2021-02-18 00:00:00|             132242|       NULL|      -10|\n|   10000|               2|         1|        744|                      0| 2021-02-23 00:00:00|2021-02-26 00:00:00|             360642|       NULL|      -10|\n|   86800|               2|        28|        744|                      0| 2022-07-07 00:00:00|9999-12-31 00:00:00|           10149571|       NULL|      390|\n|   86800|               2|        48|        744|                      0| 2023-07-14 00:00:00|9999-12-31 00:00:00|           12917511|       NULL|      390|\n|   86800|               2|        40|        720|                      0| 2022-09-22 00:00:00|9999-12-31 00:00:00|           10954498|       NULL|      390|\n|   86800|               2|         5|        720|                      0| 2021-11-01 00:00:00|9999-12-31 00:00:00|            7071517|       NULL|      390|\n|   86800|               2|        28|        744|                      0| 2022-07-07 00:00:00|9999-12-31 00:00:00|           10149656|       NULL|      390|\n|   86800|               2|        48|        744|                      0| 2023-07-14 00:00:00|9999-12-31 00:00:00|           12917475|       NULL|      390|\n|   86800|               2|        24|        744|                      0| 2022-02-09 00:00:00|9999-12-31 00:00:00|            7432601|       NULL|      390|\n|   86800|               2|        47|        744|                      0| 2023-05-29 00:00:00|9999-12-31 00:00:00|           12313604|       NULL|      390|\n|   86800|               2|        47|        744|                      0| 2023-05-29 00:00:00|9999-12-31 00:00:00|           12163125|       NULL|      390|\n|   86800|               2|        47|        720|                      0| 2023-05-29 00:00:00|9999-12-31 00:00:00|           12417124|       NULL|      390|\n+--------+----------------+----------+-----------+-----------------------+--------------------+-------------------+-------------------+-----------+---------+\nonly showing top 20 rows\n\n"
     ]
    }
   ],
   "source": [
    "# df.show()"
   ]
  },
  {
   "cell_type": "code",
   "execution_count": 0,
   "metadata": {
    "application/vnd.databricks.v1+cell": {
     "cellMetadata": {
      "byteLimit": 2048000,
      "rowLimit": 10000
     },
     "inputWidgets": {},
     "nuid": "2ae6c1bc-a9b9-414a-93be-654b56a99b5d",
     "showTitle": false,
     "title": ""
    }
   },
   "outputs": [
    {
     "output_type": "stream",
     "name": "stdout",
     "output_type": "stream",
     "text": [
      "+--------+----------------+----------+-----------+-----------------------+--------------------+-----------------+-------------------+-----------+---------+\n|ID_Contr|ID_Tipo_Contrato|ID_Cenario|Total_Horas|Quantidade_MW_Medio_Mes|Data_Inicio_Vigencia|Data_Fim_Vigencia|ID_Contratos_Mensal|Preco_Final|ID_Agente|\n+--------+----------------+----------+-----------+-----------------------+--------------------+-----------------+-------------------+-----------+---------+\n|     460|               0|         0|          0|                  18511|                   0|                0|                  1|     641137|    61397|\n+--------+----------------+----------+-----------+-----------------------+--------------------+-----------------+-------------------+-----------+---------+\n\n"
     ]
    }
   ],
   "source": [
    "from pyspark.sql.functions import col, sum\n",
    "missing_stats = df.select([sum(col(c).isNull().cast(\"int\")).alias(c) for c in df.columns])\n",
    "\n",
    "missing_stats.show()"
   ]
  },
  {
   "cell_type": "code",
   "execution_count": 0,
   "metadata": {
    "application/vnd.databricks.v1+cell": {
     "cellMetadata": {
      "byteLimit": 2048000,
      "rowLimit": 10000
     },
     "inputWidgets": {},
     "nuid": "8ef8033f-5f16-4302-a2dc-ed727ce5ee30",
     "showTitle": false,
     "title": ""
    }
   },
   "outputs": [],
   "source": [
    "df = df.drop('Preco_Final')"
   ]
  },
  {
   "cell_type": "code",
   "execution_count": 0,
   "metadata": {
    "application/vnd.databricks.v1+cell": {
     "cellMetadata": {
      "byteLimit": 2048000,
      "rowLimit": 10000
     },
     "inputWidgets": {},
     "nuid": "ae372f48-d0e7-4432-ae9c-4b95a0a8daec",
     "showTitle": false,
     "title": ""
    }
   },
   "outputs": [
    {
     "output_type": "execute_result",
     "data": {
      "text/plain": [
       "[Row(ID_Contr=66920, ID_Tipo_Contrato=10, ID_Cenario=24, Total_Horas=744, Quantidade_MW_Medio_Mes='1822214621', Data_Inicio_Vigencia=datetime.datetime(2022, 7, 15, 0, 0), Data_Fim_Vigencia=datetime.datetime(2022, 7, 18, 0, 0), ID_Contratos_Mensal=10355788, ID_Agente=230),\n",
       " Row(ID_Contr=66920, ID_Tipo_Contrato=10, ID_Cenario=24, Total_Horas=744, Quantidade_MW_Medio_Mes='1822214621', Data_Inicio_Vigencia=datetime.datetime(2022, 2, 11, 0, 0), Data_Fim_Vigencia=datetime.datetime(2022, 2, 11, 0, 0), ID_Contratos_Mensal=9467608, ID_Agente=230),\n",
       " Row(ID_Contr=66920, ID_Tipo_Contrato=10, ID_Cenario=24, Total_Horas=744, Quantidade_MW_Medio_Mes='1822214621', Data_Inicio_Vigencia=datetime.datetime(2022, 2, 11, 0, 0), Data_Fim_Vigencia=datetime.datetime(2022, 2, 11, 0, 0), ID_Contratos_Mensal=7645089, ID_Agente=230),\n",
       " Row(ID_Contr=66920, ID_Tipo_Contrato=10, ID_Cenario=42, Total_Horas=744, Quantidade_MW_Medio_Mes='1822214621', Data_Inicio_Vigencia=datetime.datetime(2023, 3, 9, 0, 0), Data_Fim_Vigencia=datetime.datetime(9999, 12, 31, 0, 0), ID_Contratos_Mensal=11772163, ID_Agente=230),\n",
       " Row(ID_Contr=66920, ID_Tipo_Contrato=10, ID_Cenario=24, Total_Horas=672, Quantidade_MW_Medio_Mes='1645871270', Data_Inicio_Vigencia=datetime.datetime(2022, 7, 15, 0, 0), Data_Fim_Vigencia=datetime.datetime(2022, 7, 18, 0, 0), ID_Contratos_Mensal=10355745, ID_Agente=230)]"
      ]
     },
     "execution_count": 11,
     "metadata": {},
     "output_type": "execute_result"
    }
   ],
   "source": [
    "# df.where(col('Quantidade_MW_Medio_Mes') > 0).take(5)"
   ]
  },
  {
   "cell_type": "code",
   "execution_count": 0,
   "metadata": {
    "application/vnd.databricks.v1+cell": {
     "cellMetadata": {
      "byteLimit": 2048000,
      "rowLimit": 10000
     },
     "inputWidgets": {},
     "nuid": "4427c96a-17a8-4f84-9b54-a0a2bb350b09",
     "showTitle": false,
     "title": ""
    }
   },
   "outputs": [],
   "source": [
    "df = df.drop('Quantidade_MW_Medio_Mes')"
   ]
  },
  {
   "cell_type": "code",
   "execution_count": 0,
   "metadata": {
    "application/vnd.databricks.v1+cell": {
     "cellMetadata": {
      "byteLimit": 2048000,
      "rowLimit": 10000
     },
     "inputWidgets": {},
     "nuid": "781d2899-58f8-454d-a2d5-2aca62927ba0",
     "showTitle": false,
     "title": ""
    }
   },
   "outputs": [],
   "source": [
    "df = df.where(col('ID_Agente') > 0)"
   ]
  },
  {
   "cell_type": "code",
   "execution_count": 0,
   "metadata": {
    "application/vnd.databricks.v1+cell": {
     "cellMetadata": {
      "byteLimit": 2048000,
      "rowLimit": 10000
     },
     "inputWidgets": {},
     "nuid": "e81d8d52-b8df-41f0-afb8-76114a69f174",
     "showTitle": false,
     "title": ""
    }
   },
   "outputs": [],
   "source": [
    "delta_table_path = \"/dbfs/delta-lake-tables/silver\"  \n",
    "df.write.mode(\"overwrite\").format(\"delta\").save(delta_table_path)"
   ]
  }
 ],
 "metadata": {
  "application/vnd.databricks.v1+notebook": {
   "dashboards": [],
   "language": "python",
   "notebookMetadata": {
    "mostRecentlyExecutedCommandWithImplicitDF": {
     "commandId": 873883233768256,
     "dataframes": [
      "_sqldf"
     ]
    },
    "pythonIndentUnit": 4
   },
   "notebookName": "2 - Silver",
   "widgets": {}
  }
 },
 "nbformat": 4,
 "nbformat_minor": 0
}
