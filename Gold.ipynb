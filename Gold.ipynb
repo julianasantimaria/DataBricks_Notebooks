{
 "cells": [
  {
   "cell_type": "code",
   "execution_count": 0,
   "metadata": {
    "application/vnd.databricks.v1+cell": {
     "cellMetadata": {
      "byteLimit": 2048000,
      "rowLimit": 10000
     },
     "inputWidgets": {},
     "nuid": "8389dc59-4d4a-43eb-aa4a-ffbcad7668c3",
     "showTitle": false,
     "title": ""
    }
   },
   "outputs": [],
   "source": [
    "delta_table_path = \"/dbfs/delta-lake-tables/silver\"\n",
    "\n",
    "df = spark.read.format(\"delta\").load(delta_table_path)"
   ]
  },
  {
   "cell_type": "code",
   "execution_count": 0,
   "metadata": {
    "application/vnd.databricks.v1+cell": {
     "cellMetadata": {
      "byteLimit": 2048000,
      "rowLimit": 10000
     },
     "inputWidgets": {},
     "nuid": "61a1014e-9625-4e52-8e9e-221f58be4acd",
     "showTitle": false,
     "title": ""
    }
   },
   "outputs": [
    {
     "output_type": "display_data",
     "data": {
      "text/html": [
       "<style scoped>\n",
       "  .ansiout {\n",
       "    display: block;\n",
       "    unicode-bidi: embed;\n",
       "    white-space: pre-wrap;\n",
       "    word-wrap: break-word;\n",
       "    word-break: break-all;\n",
       "    font-family: \"Source Code Pro\", \"Menlo\", monospace;;\n",
       "    font-size: 13px;\n",
       "    color: #555;\n",
       "    margin-left: 4px;\n",
       "    line-height: 19px;\n",
       "  }\n",
       "</style>\n",
       "<div class=\"ansiout\">res0: Boolean = true\n",
       "</div>"
      ]
     },
     "metadata": {
      "application/vnd.databricks.v1+output": {
       "addedWidgets": {},
       "arguments": {},
       "data": "<div class=\"ansiout\">res0: Boolean = true\n</div>",
       "datasetInfos": [],
       "metadata": {
        "isDbfsCommandResult": false
       },
       "removedWidgets": [],
       "type": "html"
      }
     },
     "output_type": "display_data"
    }
   ],
   "source": [
    "%fs mkdirs /dbfs/delta-lake-tables/gold/"
   ]
  },
  {
   "cell_type": "code",
   "execution_count": 0,
   "metadata": {
    "application/vnd.databricks.v1+cell": {
     "cellMetadata": {
      "byteLimit": 2048000,
      "rowLimit": 10000
     },
     "inputWidgets": {},
     "nuid": "7a35249d-8cba-4f27-a400-6fc2f6c5a3fb",
     "showTitle": false,
     "title": ""
    }
   },
   "outputs": [],
   "source": [
    "from pyspark.sql import functions as F\n",
    "from pyspark.sql.functions import col, sum\n",
    "\n",
    "\n",
    "contracts_per_agent = df\\\n",
    "    .select('ID_Contr', 'ID_Agente')\\\n",
    "    .distinct()\\\n",
    "    .groupBy('ID_Agente')\\\n",
    "    .agg(F.count(\"ID_Contr\").alias(\"contract_count\"))\n",
    "\n",
    "delta_table_path = \"/dbfs/delta-lake-tables/gold/contracts_per_agent\"  \n",
    "contracts_per_agent.write.mode(\"overwrite\").format(\"delta\").save(delta_table_path)"
   ]
  },
  {
   "cell_type": "code",
   "execution_count": 0,
   "metadata": {
    "application/vnd.databricks.v1+cell": {
     "cellMetadata": {
      "byteLimit": 2048000,
      "rowLimit": 10000
     },
     "inputWidgets": {},
     "nuid": "0d4bc34c-2d05-4066-8ca6-382df9f6ced2",
     "showTitle": false,
     "title": ""
    }
   },
   "outputs": [],
   "source": [
    "hours_per_contract = df\\\n",
    "    .distinct()\\\n",
    "    .groupBy('ID_Contr')\\\n",
    "    .agg(F.sum(\"Total_Horas\").alias(\"sum_hours\"))\n",
    "\n",
    "delta_table_path = \"/dbfs/delta-lake-tables/gold/hours_per_contract\"  \n",
    "hours_per_contract.write.mode(\"overwrite\").format(\"delta\").save(delta_table_path)"
   ]
  }
 ],
 "metadata": {
  "application/vnd.databricks.v1+notebook": {
   "dashboards": [],
   "language": "python",
   "notebookMetadata": {
    "mostRecentlyExecutedCommandWithImplicitDF": {
     "commandId": -1,
     "dataframes": [
      "_sqldf"
     ]
    },
    "pythonIndentUnit": 4
   },
   "notebookName": "3 - Gold",
   "widgets": {}
  }
 },
 "nbformat": 4,
 "nbformat_minor": 0
}
